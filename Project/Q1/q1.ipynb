{
 "cells": [
  {
   "cell_type": "markdown",
   "metadata": {},
   "source": [
    "## Introduction"
   ]
  },
  {
   "cell_type": "markdown",
   "metadata": {},
   "source": [
    "This project applies natural language processing techniques to analyze a dataset of over 1000 comments from Chris Bumsted's Instagram page, collected using Apify. The comments were extracted and saved into a CSV file for further analysis.\n",
    "\n",
    "The goal is to gain insights into the topics, sentiment, and linguistic patterns within this social media content. By implementing NLP algorithms for text analysis, we can extract meaningful information from unstructured text data.\n",
    "\n",
    "Specifically, this project will clean and preprocess the Instagram comments, then apply techniques like sentiment analysis, topic modeling, and entity extraction. Visualizations will also be generated to summarize the key findings.\n",
    "\n",
    "This enables both a broad overview and a detailed exploration of the language used by Bumsted's followers on Instagram. The techniques applied serve as a practical demonstration of how NLP can be used to extract value from social data."
   ]
  },
  {
   "cell_type": "markdown",
   "metadata": {},
   "source": [
    "## Import Libraries"
   ]
  },
  {
   "cell_type": "code",
   "execution_count": 1,
   "metadata": {},
   "outputs": [],
   "source": [
    "from apify_client import ApifyClient\n",
    "from dotenv import load_dotenv\n",
    "import requests\n",
    "import os\n",
    "import pandas as pd"
   ]
  },
  {
   "cell_type": "markdown",
   "metadata": {},
   "source": [
    "## Implementation"
   ]
  },
  {
   "cell_type": "code",
   "execution_count": 2,
   "metadata": {},
   "outputs": [
    {
     "data": {
      "text/plain": [
       "True"
      ]
     },
     "execution_count": 2,
     "metadata": {},
     "output_type": "execute_result"
    }
   ],
   "source": [
    "load_dotenv()"
   ]
  },
  {
   "cell_type": "markdown",
   "metadata": {},
   "source": [
    "Read apify api token from env file"
   ]
  },
  {
   "cell_type": "code",
   "execution_count": 3,
   "metadata": {},
   "outputs": [],
   "source": [
    "api_token = os.getenv(\"API_TOKEN\")"
   ]
  },
  {
   "cell_type": "markdown",
   "metadata": {},
   "source": [
    "init apify api "
   ]
  },
  {
   "cell_type": "code",
   "execution_count": 4,
   "metadata": {},
   "outputs": [],
   "source": [
    "apify_client = ApifyClient(api_token)"
   ]
  },
  {
   "cell_type": "code",
   "execution_count": 5,
   "metadata": {},
   "outputs": [],
   "source": [
    "run_input = {\n",
    "    \"directUrls\": [\n",
    "        \"https://www.instagram.com/p/CwBOUoZSDrf/?utm_source=ig_web_copy_link\",\n",
    "        \"https://www.instagram.com/reel/Cvxj4Rcga_i/?utm_source=ig_web_copy_link\",\n",
    "        \"https://www.instagram.com/reel/Cuw7en7Akhg/?utm_source=ig_web_copy_link\",\n",
    "        \"https://www.instagram.com/p/CuKYRiqgMh4/?utm_source=ig_web_copy_link\",\n",
    "        \"https://www.instagram.com/p/CtXCEXDgtgl/?utm_source=ig_web_copy_link\",\n",
    "        \"https://www.instagram.com/reel/C1hw790AJsR/?utm_source=ig_web_copy_link\",\n",
    "        \"https://www.instagram.com/p/C1U21__gmP9/?utm_source=ig_web_copy_link\",\n",
    "        \"https://www.instagram.com/p/C0e6xcLAPpC/?utm_source=ig_web_copy_link\",\n",
    "        \"https://www.instagram.com/p/C0HUdmGt66Q/?utm_source=ig_web_copy_link\",\n",
    "        \"https://www.instagram.com/p/Cz67N84Pezn/?utm_source=ig_web_copy_link\",\n",
    "        \"https://www.instagram.com/p/C2KbLaHADNM/?utm_source=ig_web_copy_link\",\n",
    "        \"https://www.instagram.com/reel/C2Ih9JxgSLD/?utm_source=ig_web_copy_link\",\n",
    "        \"https://www.instagram.com/reel/C2C3r_rgPu1/?utm_source=ig_web_copy_link\",\n",
    "        \"https://www.instagram.com/reel/C17pLDogJUV/?utm_source=ig_web_copy_link\",\n",
    "        \"https://www.instagram.com/p/C1z5hg5g22P/?utm_source=ig_web_copy_link\",\n",
    "        \"https://www.instagram.com/p/C1sf3zAAH-j/?utm_source=ig_web_copy_link\",\n",
    "        \"https://www.instagram.com/p/C1M3Co8gzcz/?utm_source=ig_web_copy_link\",\n",
    "        \"https://www.instagram.com/p/C1FeQ1dAXxB/?utm_source=ig_web_copy_link\",\n",
    "        \"https://www.instagram.com/p/C066yhrARUe/?utm_source=ig_web_copy_link\",\n",
    "        \"https://www.instagram.com/p/C04SuDAA4nB/?utm_source=ig_web_copy_link\",\n",
    "        \"https://www.instagram.com/reel/C0hXiXyAYU9/?utm_source=ig_web_copy_link\",\n",
    "        \"https://www.instagram.com/reel/C0W_xgMABGm/?utm_source=ig_web_copy_link\",\n",
    "        \"https://www.instagram.com/reel/CzpJZlcgb37/?utm_source=ig_web_copy_link\",\n",
    "        \"https://www.instagram.com/reel/Czg2lSPgslD/?utm_source=ig_web_copy_link\",\n",
    "        \"https://www.instagram.com/p/CzeOV8Kgb57/?utm_source=ig_web_copy_link\",\n",
    "        \"https://www.instagram.com/p/CzTrjXSA4FD/?utm_source=ig_web_copy_link\",\n",
    "        \"https://www.instagram.com/p/CzRy6VMgZyk/?utm_source=ig_web_copy_link\",\n",
    "        \"https://www.instagram.com/p/CzQ-mWiACOF/?utm_source=ig_web_copy_link\",\n",
    "        \"https://www.instagram.com/p/CzPED9Fg_GX/?utm_source=ig_web_copy_link\",\n",
    "        \"https://www.instagram.com/p/CzL83b3AIsu/?utm_source=ig_web_copy_link\",\n",
    "    ]\n",
    "}"
   ]
  },
  {
   "cell_type": "markdown",
   "metadata": {},
   "source": [
    "Start an actor and wait for it to finish"
   ]
  },
  {
   "cell_type": "code",
   "execution_count": 6,
   "metadata": {},
   "outputs": [],
   "source": [
    "run = apify_client.actor(\"SbK00X0JYCPblD2wp\").call(run_input=run_input)"
   ]
  },
  {
   "cell_type": "markdown",
   "metadata": {},
   "source": [
    "generate dataframe from data"
   ]
  },
  {
   "cell_type": "code",
   "execution_count": 7,
   "metadata": {},
   "outputs": [],
   "source": [
    "data = []\n",
    "for item in apify_client.dataset(run[\"defaultDatasetId\"]).iterate_items():\n",
    "    data.append(item)"
   ]
  },
  {
   "cell_type": "code",
   "execution_count": 8,
   "metadata": {},
   "outputs": [],
   "source": [
    "data = pd.DataFrame(data)\n"
   ]
  },
  {
   "cell_type": "markdown",
   "metadata": {},
   "source": [
    "remove duplicate comments"
   ]
  },
  {
   "cell_type": "code",
   "execution_count": 9,
   "metadata": {},
   "outputs": [],
   "source": [
    "data = data.drop_duplicates(subset=[\"text\"])"
   ]
  },
  {
   "cell_type": "code",
   "execution_count": 10,
   "metadata": {},
   "outputs": [
    {
     "data": {
      "text/plain": [
       "(1119, 7)"
      ]
     },
     "execution_count": 10,
     "metadata": {},
     "output_type": "execute_result"
    }
   ],
   "source": [
    "data.shape"
   ]
  },
  {
   "cell_type": "markdown",
   "metadata": {},
   "source": [
    "save the collected data to data.csv"
   ]
  },
  {
   "cell_type": "code",
   "execution_count": 11,
   "metadata": {},
   "outputs": [],
   "source": [
    "data.to_csv(\"../data.csv\", index=False)"
   ]
  }
 ],
 "metadata": {
  "kernelspec": {
   "display_name": "Python 3",
   "language": "python",
   "name": "python3"
  },
  "language_info": {
   "codemirror_mode": {
    "name": "ipython",
    "version": 3
   },
   "file_extension": ".py",
   "mimetype": "text/x-python",
   "name": "python",
   "nbconvert_exporter": "python",
   "pygments_lexer": "ipython3",
   "version": "3.10.11"
  }
 },
 "nbformat": 4,
 "nbformat_minor": 2
}
