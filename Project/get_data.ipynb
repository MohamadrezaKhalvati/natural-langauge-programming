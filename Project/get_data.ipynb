{
 "cells": [
  {
   "cell_type": "code",
   "execution_count": 51,
   "metadata": {},
   "outputs": [],
   "source": [
    "from apify_client import ApifyClient\n",
    "from dotenv import load_dotenv\n",
    "import requests\n",
    "import os\n",
    "import pandas as pd"
   ]
  },
  {
   "cell_type": "code",
   "execution_count": 52,
   "metadata": {},
   "outputs": [
    {
     "data": {
      "text/plain": [
       "True"
      ]
     },
     "execution_count": 52,
     "metadata": {},
     "output_type": "execute_result"
    }
   ],
   "source": [
    "load_dotenv()"
   ]
  },
  {
   "cell_type": "markdown",
   "metadata": {},
   "source": [
    "Read apify api token from env file"
   ]
  },
  {
   "cell_type": "code",
   "execution_count": 53,
   "metadata": {},
   "outputs": [],
   "source": [
    "api_token = os.getenv(\"API_TOKEN\")"
   ]
  },
  {
   "cell_type": "markdown",
   "metadata": {},
   "source": [
    "init apify"
   ]
  },
  {
   "cell_type": "code",
   "execution_count": 54,
   "metadata": {},
   "outputs": [],
   "source": [
    "apify_client = ApifyClient(api_token)"
   ]
  },
  {
   "cell_type": "code",
   "execution_count": 55,
   "metadata": {},
   "outputs": [],
   "source": [
    "run_input = {\n",
    "    \"directUrls\": [\n",
    "        \"https://www.instagram.com/p/CwBOUoZSDrf/?utm_source=ig_web_copy_link\",\n",
    "        \"https://www.instagram.com/reel/Cvxj4Rcga_i/?utm_source=ig_web_copy_link\",\n",
    "        \"https://www.instagram.com/reel/Cuw7en7Akhg/?utm_source=ig_web_copy_link\",\n",
    "        \"https://www.instagram.com/p/CuKYRiqgMh4/?utm_source=ig_web_copy_link\",\n",
    "        \"https://www.instagram.com/p/CtXCEXDgtgl/?utm_source=ig_web_copy_link\",\n",
    "        \"https://www.instagram.com/reel/C1hw790AJsR/?utm_source=ig_web_copy_link\",\n",
    "        \"https://www.instagram.com/p/C1U21__gmP9/?utm_source=ig_web_copy_link\",\n",
    "        \"https://www.instagram.com/p/C0e6xcLAPpC/?utm_source=ig_web_copy_link\",\n",
    "        \"https://www.instagram.com/p/C0HUdmGt66Q/?utm_source=ig_web_copy_link\",\n",
    "        \"https://www.instagram.com/p/Cz67N84Pezn/?utm_source=ig_web_copy_link\",\n",
    "    ],\n",
    "}"
   ]
  },
  {
   "cell_type": "markdown",
   "metadata": {},
   "source": [
    "Start an actor and wait for it to finish"
   ]
  },
  {
   "cell_type": "code",
   "execution_count": 56,
   "metadata": {},
   "outputs": [],
   "source": [
    "# actor_call = apify_client.actor(\"apify/instagram-comment-scraper\").call(\n",
    "#     run_input=run_input\n",
    "# )\n",
    "run = apify_client.actor(\"SbK00X0JYCPblD2wp\").call(run_input=run_input)"
   ]
  },
  {
   "cell_type": "code",
   "execution_count": 57,
   "metadata": {},
   "outputs": [],
   "source": [
    "data = []\n",
    "for item in apify_client.dataset(run[\"defaultDatasetId\"]).iterate_items():\n",
    "    data.append(item)\n",
    "\n"
   ]
  },
  {
   "cell_type": "code",
   "execution_count": 58,
   "metadata": {},
   "outputs": [],
   "source": [
    "data = pd.DataFrame(data)\n"
   ]
  },
  {
   "cell_type": "code",
   "execution_count": 59,
   "metadata": {},
   "outputs": [
    {
     "name": "stdout",
     "output_type": "stream",
     "text": [
      "<class 'pandas.core.frame.DataFrame'>\n",
      "RangeIndex: 480 entries, 0 to 479\n",
      "Data columns (total 7 columns):\n",
      " #   Column              Non-Null Count  Dtype \n",
      "---  ------              --------------  ----- \n",
      " 0   postUrl             480 non-null    object\n",
      " 1   id                  480 non-null    object\n",
      " 2   text                480 non-null    object\n",
      " 3   ownerUsername       480 non-null    object\n",
      " 4   ownerProfilePicUrl  480 non-null    object\n",
      " 5   timestamp           480 non-null    object\n",
      " 6   likesCount          480 non-null    int64 \n",
      "dtypes: int64(1), object(6)\n",
      "memory usage: 26.4+ KB\n"
     ]
    }
   ],
   "source": [
    "data.info()"
   ]
  },
  {
   "cell_type": "code",
   "execution_count": 61,
   "metadata": {},
   "outputs": [],
   "source": [
    "data.to_csv(\"./data.csv\")"
   ]
  }
 ],
 "metadata": {
  "kernelspec": {
   "display_name": "Python 3",
   "language": "python",
   "name": "python3"
  },
  "language_info": {
   "codemirror_mode": {
    "name": "ipython",
    "version": 3
   },
   "file_extension": ".py",
   "mimetype": "text/x-python",
   "name": "python",
   "nbconvert_exporter": "python",
   "pygments_lexer": "ipython3",
   "version": "3.10.11"
  }
 },
 "nbformat": 4,
 "nbformat_minor": 2
}
