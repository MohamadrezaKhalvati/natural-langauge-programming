{
 "cells": [
  {
   "cell_type": "code",
   "execution_count": 14,
   "metadata": {},
   "outputs": [],
   "source": [
    "from apify_client import ApifyClient\n",
    "from dotenv import load_dotenv\n",
    "import requests\n",
    "import os\n",
    "import pandas as pd"
   ]
  },
  {
   "cell_type": "code",
   "execution_count": 15,
   "metadata": {},
   "outputs": [
    {
     "data": {
      "text/plain": [
       "True"
      ]
     },
     "execution_count": 15,
     "metadata": {},
     "output_type": "execute_result"
    }
   ],
   "source": [
    "load_dotenv()"
   ]
  },
  {
   "cell_type": "markdown",
   "metadata": {},
   "source": [
    "Read apify api token from env file"
   ]
  },
  {
   "cell_type": "code",
   "execution_count": 16,
   "metadata": {},
   "outputs": [],
   "source": [
    "api_token = os.getenv(\"API_TOKEN\")"
   ]
  },
  {
   "cell_type": "markdown",
   "metadata": {},
   "source": [
    "init apify"
   ]
  },
  {
   "cell_type": "code",
   "execution_count": 17,
   "metadata": {},
   "outputs": [],
   "source": [
    "apify_client = ApifyClient(api_token)"
   ]
  },
  {
   "cell_type": "code",
   "execution_count": 18,
   "metadata": {},
   "outputs": [],
   "source": [
    "run_input = {\n",
    "    \"directUrls\": [\n",
    "        \"https://www.instagram.com/p/CwBOUoZSDrf/?utm_source=ig_web_copy_link\",\n",
    "        \"https://www.instagram.com/reel/Cvxj4Rcga_i/?utm_source=ig_web_copy_link\",\n",
    "        \"https://www.instagram.com/reel/Cuw7en7Akhg/?utm_source=ig_web_copy_link\",\n",
    "        \"https://www.instagram.com/p/CuKYRiqgMh4/?utm_source=ig_web_copy_link\",\n",
    "        \"https://www.instagram.com/p/CtXCEXDgtgl/?utm_source=ig_web_copy_link\",\n",
    "        \"https://www.instagram.com/reel/C1hw790AJsR/?utm_source=ig_web_copy_link\",\n",
    "        \"https://www.instagram.com/p/C1U21__gmP9/?utm_source=ig_web_copy_link\",\n",
    "        \"https://www.instagram.com/p/C0e6xcLAPpC/?utm_source=ig_web_copy_link\",\n",
    "        \"https://www.instagram.com/p/C0HUdmGt66Q/?utm_source=ig_web_copy_link\",\n",
    "        \"https://www.instagram.com/p/Cz67N84Pezn/?utm_source=ig_web_copy_link\",\n",
    "        \"https://www.instagram.com/p/C2KbLaHADNM/?utm_source=ig_web_copy_link\",\n",
    "        \"https://www.instagram.com/reel/C2Ih9JxgSLD/?utm_source=ig_web_copy_link\",\n",
    "        \"https://www.instagram.com/reel/C2C3r_rgPu1/?utm_source=ig_web_copy_link\",\n",
    "        \"https://www.instagram.com/reel/C17pLDogJUV/?utm_source=ig_web_copy_link\",\n",
    "        \"https://www.instagram.com/p/C1z5hg5g22P/?utm_source=ig_web_copy_link\",\n",
    "        \"https://www.instagram.com/p/C1sf3zAAH-j/?utm_source=ig_web_copy_link\",\n",
    "        \"https://www.instagram.com/p/C1M3Co8gzcz/?utm_source=ig_web_copy_link\",\n",
    "        \"https://www.instagram.com/p/C1FeQ1dAXxB/?utm_source=ig_web_copy_link\",\n",
    "        \"https://www.instagram.com/p/C066yhrARUe/?utm_source=ig_web_copy_link\",\n",
    "        \"https://www.instagram.com/p/C04SuDAA4nB/?utm_source=ig_web_copy_link\",\n",
    "        \"https://www.instagram.com/reel/C0hXiXyAYU9/?utm_source=ig_web_copy_link\",\n",
    "        \"https://www.instagram.com/reel/C0W_xgMABGm/?utm_source=ig_web_copy_link\",\n",
    "        \"https://www.instagram.com/reel/CzpJZlcgb37/?utm_source=ig_web_copy_link\",\n",
    "        \"https://www.instagram.com/reel/Czg2lSPgslD/?utm_source=ig_web_copy_link\",\n",
    "        \"https://www.instagram.com/p/CzeOV8Kgb57/?utm_source=ig_web_copy_link\",\n",
    "        \"https://www.instagram.com/p/CzTrjXSA4FD/?utm_source=ig_web_copy_link\",\n",
    "        \"https://www.instagram.com/p/CzRy6VMgZyk/?utm_source=ig_web_copy_link\",\n",
    "        \"https://www.instagram.com/p/CzQ-mWiACOF/?utm_source=ig_web_copy_link\",\n",
    "        \"https://www.instagram.com/p/CzPED9Fg_GX/?utm_source=ig_web_copy_link\",\n",
    "        \"https://www.instagram.com/p/CzL83b3AIsu/?utm_source=ig_web_copy_link\",\n",
    "    ]\n",
    "}"
   ]
  },
  {
   "cell_type": "markdown",
   "metadata": {},
   "source": [
    "Start an actor and wait for it to finish"
   ]
  },
  {
   "cell_type": "code",
   "execution_count": 19,
   "metadata": {},
   "outputs": [],
   "source": [
    "run = apify_client.actor(\"SbK00X0JYCPblD2wp\").call(run_input=run_input)"
   ]
  },
  {
   "cell_type": "code",
   "execution_count": 20,
   "metadata": {},
   "outputs": [],
   "source": [
    "data = []\n",
    "for item in apify_client.dataset(run[\"defaultDatasetId\"]).iterate_items():\n",
    "    data.append(item)"
   ]
  },
  {
   "cell_type": "code",
   "execution_count": 21,
   "metadata": {},
   "outputs": [],
   "source": [
    "data = pd.DataFrame(data)\n"
   ]
  },
  {
   "cell_type": "code",
   "execution_count": 22,
   "metadata": {},
   "outputs": [
    {
     "data": {
      "text/plain": [
       "(1414, 7)"
      ]
     },
     "execution_count": 22,
     "metadata": {},
     "output_type": "execute_result"
    }
   ],
   "source": [
    "data.shape"
   ]
  },
  {
   "cell_type": "code",
   "execution_count": 23,
   "metadata": {},
   "outputs": [],
   "source": [
    "data = data.drop_duplicates(subset=[\"text\"])"
   ]
  },
  {
   "cell_type": "code",
   "execution_count": 24,
   "metadata": {},
   "outputs": [
    {
     "data": {
      "text/plain": [
       "(1163, 7)"
      ]
     },
     "execution_count": 24,
     "metadata": {},
     "output_type": "execute_result"
    }
   ],
   "source": [
    "data.shape"
   ]
  },
  {
   "cell_type": "code",
   "execution_count": 25,
   "metadata": {},
   "outputs": [],
   "source": [
    "data.to_csv(\"./data.csv\")"
   ]
  }
 ],
 "metadata": {
  "kernelspec": {
   "display_name": "Python 3",
   "language": "python",
   "name": "python3"
  },
  "language_info": {
   "codemirror_mode": {
    "name": "ipython",
    "version": 3
   },
   "file_extension": ".py",
   "mimetype": "text/x-python",
   "name": "python",
   "nbconvert_exporter": "python",
   "pygments_lexer": "ipython3",
   "version": "3.10.11"
  }
 },
 "nbformat": 4,
 "nbformat_minor": 2
}
