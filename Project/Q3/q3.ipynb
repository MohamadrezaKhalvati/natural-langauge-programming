{
 "cells": [
  {
   "cell_type": "markdown",
   "metadata": {},
   "source": [
    "## Introduction to the Sexism Detection Dataset\n"
   ]
  },
  {
   "cell_type": "markdown",
   "metadata": {},
   "source": [
    "\n",
    "### Data Format\n",
    "\n",
    "-   **rewire_id:**  A unique identifier for each data point.\n",
    "-   **text:**  The actual text content.\n",
    "-   **label_sexist:**  A binary label indicating whether the text is sexist or not.\n",
    "-   **label_category:**  A categorical label indicating the type of sexism or other category the text belongs to (if applicable).\n",
    "-   **label_vector:**  A numerical vector representation of the labels (if applicable).\n",
    "-   **split:**  A column indicating the split of the data into training, development, or test sets.\n",
    "\n",
    "### Label Information\n",
    "\n",
    "-   **label_sexist:**\n",
    "    -   **not sexist:**  The text does not contain any sexist content.\n",
    "    -   **sexist:**  The text contains sexist content.\n",
    "-   **label_category:**\n",
    "    -   This column may contain various categories of sexism or other types of content. The specific categories and their meanings will depend on the context of the dataset.\n",
    "-   **label_vector:**\n",
    "    -   This column may contain a numerical vector representation of the labels. The specific format and interpretation of this vector will depend on the task and the model used.\n",
    "\n",
    "### Data Split\n",
    "\n",
    "-   **split:**\n",
    "    -   **dev:**  Development set.\n",
    "    -   **train:**  Training set.\n",
    "    -   **test:**  Test set.\n",
    "\n",
    "### Potential Applications\n",
    "\n",
    "-   Training machine learning models to identify and classify sexist text.\n",
    "-   Developing tools and systems for detecting and mitigating sexism in online content.\n",
    "-   Conducting research on the prevalence and patterns of sexism in language.\n",
    "-   Studying the impact of sexist language on individuals and society.\n",
    "\n",
    "### Limitations and Considerations\n",
    "\n",
    "-   The dataset may contain biases or limitations inherent in the data collection process or the labeling methodology.\n",
    "-   The specific categories of sexism or other types of content in the  **label_category**  column may vary depending on the context and purpose of the dataset.\n",
    "-   The dataset may require additional preprocessing and feature engineering to be suitable for specific NLP tasks.\n",
    "\n",
    "\n",
    "## Header\n",
    "\n",
    "```\n",
    "rewire_id\ttext\tlabel_sexist\tlabel_category\tlabel_vector\tsplit\n",
    "```"
   ]
  },
  {
   "cell_type": "markdown",
   "metadata": {},
   "source": [
    "## Import Libraries"
   ]
  },
  {
   "cell_type": "code",
   "execution_count": 136,
   "metadata": {},
   "outputs": [],
   "source": [
    "from sklearn.model_selection import train_test_split\n",
    "from tensorflow.keras.preprocessing.text import Tokenizer\n",
    "import matplotlib.pyplot as plt\n",
    "from tensorflow.keras.utils import to_categorical\n",
    "from sklearn.calibration import LabelEncoder\n",
    "from keras.layers import Embedding, LSTM, Dense\n",
    "from keras.utils import pad_sequences\n",
    "from nltk.stem import WordNetLemmatizer\n",
    "from keras.models import Sequential\n",
    "from nltk.stem import PorterStemmer\n",
    "from nltk.corpus import stopwords\n",
    "import tensorflow as tf\n",
    "import pandas as pd\n",
    "import numpy as np\n",
    "import nltk\n",
    "import string\n",
    "import re"
   ]
  },
  {
   "cell_type": "markdown",
   "metadata": {},
   "source": [
    "## Pre rocessing"
   ]
  },
  {
   "cell_type": "code",
   "execution_count": 103,
   "metadata": {},
   "outputs": [],
   "source": [
    "data = pd.read_csv(\"./edos_labelled_aggregated.csv\")"
   ]
  },
  {
   "cell_type": "code",
   "execution_count": 104,
   "metadata": {},
   "outputs": [
    {
     "name": "stdout",
     "output_type": "stream",
     "text": [
      "<class 'pandas.core.frame.DataFrame'>\n",
      "RangeIndex: 20000 entries, 0 to 19999\n",
      "Data columns (total 6 columns):\n",
      " #   Column          Non-Null Count  Dtype \n",
      "---  ------          --------------  ----- \n",
      " 0   rewire_id       20000 non-null  object\n",
      " 1   text            20000 non-null  object\n",
      " 2   label_sexist    20000 non-null  object\n",
      " 3   label_category  20000 non-null  object\n",
      " 4   label_vector    20000 non-null  object\n",
      " 5   split           20000 non-null  object\n",
      "dtypes: object(6)\n",
      "memory usage: 937.6+ KB\n"
     ]
    }
   ],
   "source": [
    "data.info()"
   ]
  },
  {
   "cell_type": "code",
   "execution_count": 105,
   "metadata": {},
   "outputs": [
    {
     "data": {
      "text/html": [
       "<div>\n",
       "<style scoped>\n",
       "    .dataframe tbody tr th:only-of-type {\n",
       "        vertical-align: middle;\n",
       "    }\n",
       "\n",
       "    .dataframe tbody tr th {\n",
       "        vertical-align: top;\n",
       "    }\n",
       "\n",
       "    .dataframe thead th {\n",
       "        text-align: right;\n",
       "    }\n",
       "</style>\n",
       "<table border=\"1\" class=\"dataframe\">\n",
       "  <thead>\n",
       "    <tr style=\"text-align: right;\">\n",
       "      <th></th>\n",
       "      <th>rewire_id</th>\n",
       "      <th>text</th>\n",
       "      <th>label_sexist</th>\n",
       "      <th>label_category</th>\n",
       "      <th>label_vector</th>\n",
       "      <th>split</th>\n",
       "    </tr>\n",
       "  </thead>\n",
       "  <tbody>\n",
       "    <tr>\n",
       "      <th>0</th>\n",
       "      <td>sexism2022_english-9609</td>\n",
       "      <td>In Nigeria, if you rape a woman, the men rape ...</td>\n",
       "      <td>not sexist</td>\n",
       "      <td>none</td>\n",
       "      <td>none</td>\n",
       "      <td>dev</td>\n",
       "    </tr>\n",
       "    <tr>\n",
       "      <th>1</th>\n",
       "      <td>sexism2022_english-16993</td>\n",
       "      <td>Then, she's a keeper. 😉</td>\n",
       "      <td>not sexist</td>\n",
       "      <td>none</td>\n",
       "      <td>none</td>\n",
       "      <td>train</td>\n",
       "    </tr>\n",
       "    <tr>\n",
       "      <th>2</th>\n",
       "      <td>sexism2022_english-13149</td>\n",
       "      <td>This is like the Metallica video where the poo...</td>\n",
       "      <td>not sexist</td>\n",
       "      <td>none</td>\n",
       "      <td>none</td>\n",
       "      <td>train</td>\n",
       "    </tr>\n",
       "    <tr>\n",
       "      <th>3</th>\n",
       "      <td>sexism2022_english-13021</td>\n",
       "      <td>woman?</td>\n",
       "      <td>not sexist</td>\n",
       "      <td>none</td>\n",
       "      <td>none</td>\n",
       "      <td>train</td>\n",
       "    </tr>\n",
       "    <tr>\n",
       "      <th>4</th>\n",
       "      <td>sexism2022_english-966</td>\n",
       "      <td>I bet she wished she had a gun</td>\n",
       "      <td>not sexist</td>\n",
       "      <td>none</td>\n",
       "      <td>none</td>\n",
       "      <td>dev</td>\n",
       "    </tr>\n",
       "  </tbody>\n",
       "</table>\n",
       "</div>"
      ],
      "text/plain": [
       "                  rewire_id  \\\n",
       "0   sexism2022_english-9609   \n",
       "1  sexism2022_english-16993   \n",
       "2  sexism2022_english-13149   \n",
       "3  sexism2022_english-13021   \n",
       "4    sexism2022_english-966   \n",
       "\n",
       "                                                text label_sexist  \\\n",
       "0  In Nigeria, if you rape a woman, the men rape ...   not sexist   \n",
       "1                            Then, she's a keeper. 😉   not sexist   \n",
       "2  This is like the Metallica video where the poo...   not sexist   \n",
       "3                                             woman?   not sexist   \n",
       "4                     I bet she wished she had a gun   not sexist   \n",
       "\n",
       "  label_category label_vector  split  \n",
       "0           none         none    dev  \n",
       "1           none         none  train  \n",
       "2           none         none  train  \n",
       "3           none         none  train  \n",
       "4           none         none    dev  "
      ]
     },
     "execution_count": 105,
     "metadata": {},
     "output_type": "execute_result"
    }
   ],
   "source": [
    "data.head()"
   ]
  },
  {
   "cell_type": "markdown",
   "metadata": {},
   "source": [
    "Drop unnecessary columns"
   ]
  },
  {
   "cell_type": "code",
   "execution_count": 106,
   "metadata": {},
   "outputs": [],
   "source": [
    "data = data[['split', 'text', 'label_sexist']]"
   ]
  },
  {
   "cell_type": "markdown",
   "metadata": {},
   "source": [
    "Remove punctuation and special characters:"
   ]
  },
  {
   "cell_type": "code",
   "execution_count": 107,
   "metadata": {},
   "outputs": [],
   "source": [
    "def remove_punctuation(text):\n",
    "  translator = str.maketrans('', '', string.punctuation)\n",
    "  return text.translate(translator)\n",
    "\n",
    "data[\"text\"] = data[\"text\"].apply(lambda x: remove_punctuation(x))"
   ]
  },
  {
   "cell_type": "code",
   "execution_count": 108,
   "metadata": {},
   "outputs": [],
   "source": [
    "def remove_special_characters(text):\n",
    "  pattern = r'[^a-zA-Z0-9\\s]'\n",
    "  return re.sub(pattern, '', text)\n",
    "\n",
    "data[\"text\"] = data[\"text\"].apply(lambda x: remove_special_characters(x))"
   ]
  },
  {
   "cell_type": "markdown",
   "metadata": {},
   "source": [
    "Convert text to lowercase:"
   ]
  },
  {
   "cell_type": "code",
   "execution_count": 109,
   "metadata": {},
   "outputs": [],
   "source": [
    "def to_lowercase(text):\n",
    "  return text.lower()\n",
    "\n",
    "data[\"text\"] = data[\"text\"].apply(lambda x: to_lowercase(x))"
   ]
  },
  {
   "cell_type": "markdown",
   "metadata": {},
   "source": [
    "Remove stop words:  "
   ]
  },
  {
   "cell_type": "code",
   "execution_count": 110,
   "metadata": {},
   "outputs": [],
   "source": [
    "def remove_stop_words(text):\n",
    "  stop_words = set(stopwords.words('english'))\n",
    "  return ' '.join([word for word in text.split() if word not in stop_words])\n",
    "\n",
    "data[\"text\"] = data[\"text\"].apply(lambda x: remove_stop_words(x))"
   ]
  },
  {
   "cell_type": "markdown",
   "metadata": {},
   "source": [
    "Stemming:"
   ]
  },
  {
   "cell_type": "code",
   "execution_count": 111,
   "metadata": {},
   "outputs": [],
   "source": [
    "def stemming(text):\n",
    "  stemmer = PorterStemmer()\n",
    "  return ' '.join([stemmer.stem(word) for word in text.split()])\n",
    "\n",
    "data[\"text\"] = data[\"text\"].apply(lambda x: stemming(x))"
   ]
  },
  {
   "cell_type": "markdown",
   "metadata": {},
   "source": [
    "Lemmatization"
   ]
  },
  {
   "cell_type": "code",
   "execution_count": 112,
   "metadata": {},
   "outputs": [],
   "source": [
    "def lemmatization(text):\n",
    "  lemmatizer = WordNetLemmatizer()\n",
    "  return ' '.join([lemmatizer.lemmatize(word) for word in text.split()])\n",
    "\n",
    "data[\"text\"] = data[\"text\"].apply(lambda x: lemmatization(x))"
   ]
  },
  {
   "cell_type": "code",
   "execution_count": 113,
   "metadata": {},
   "outputs": [],
   "source": [
    "label_encoder = LabelEncoder()"
   ]
  },
  {
   "cell_type": "code",
   "execution_count": 114,
   "metadata": {},
   "outputs": [],
   "source": [
    "data['label_sexist'] = label_encoder.fit_transform(data['label_sexist'])"
   ]
  },
  {
   "cell_type": "code",
   "execution_count": 115,
   "metadata": {},
   "outputs": [],
   "source": [
    "num_classes = len(set(data['label_sexist']))"
   ]
  },
  {
   "cell_type": "code",
   "execution_count": 116,
   "metadata": {},
   "outputs": [],
   "source": [
    "data['label_sexist'] = to_categorical(data['label_sexist'], num_classes=num_classes)"
   ]
  },
  {
   "cell_type": "markdown",
   "metadata": {},
   "source": [
    "## Spliting the data"
   ]
  },
  {
   "cell_type": "code",
   "execution_count": 117,
   "metadata": {},
   "outputs": [],
   "source": [
    "train_mask = data['split'] == 'train'\n",
    "test_mask = data['split'] == 'test'\n",
    "val_mask = data['split'] == 'dev'"
   ]
  },
  {
   "cell_type": "code",
   "execution_count": 118,
   "metadata": {},
   "outputs": [],
   "source": [
    "train_data = data[train_mask]\n",
    "test_data = data[test_mask]\n",
    "val_data = data[val_mask]"
   ]
  },
  {
   "cell_type": "markdown",
   "metadata": {},
   "source": [
    "### Training data information"
   ]
  },
  {
   "cell_type": "code",
   "execution_count": 119,
   "metadata": {},
   "outputs": [
    {
     "data": {
      "text/html": [
       "<div>\n",
       "<style scoped>\n",
       "    .dataframe tbody tr th:only-of-type {\n",
       "        vertical-align: middle;\n",
       "    }\n",
       "\n",
       "    .dataframe tbody tr th {\n",
       "        vertical-align: top;\n",
       "    }\n",
       "\n",
       "    .dataframe thead th {\n",
       "        text-align: right;\n",
       "    }\n",
       "</style>\n",
       "<table border=\"1\" class=\"dataframe\">\n",
       "  <thead>\n",
       "    <tr style=\"text-align: right;\">\n",
       "      <th></th>\n",
       "      <th>split</th>\n",
       "      <th>text</th>\n",
       "      <th>label_sexist</th>\n",
       "    </tr>\n",
       "  </thead>\n",
       "  <tbody>\n",
       "    <tr>\n",
       "      <th>1</th>\n",
       "      <td>train</td>\n",
       "      <td>she keeper</td>\n",
       "      <td>1.0</td>\n",
       "    </tr>\n",
       "    <tr>\n",
       "      <th>2</th>\n",
       "      <td>train</td>\n",
       "      <td>like metallica video poor mutil bastard say pl...</td>\n",
       "      <td>1.0</td>\n",
       "    </tr>\n",
       "    <tr>\n",
       "      <th>3</th>\n",
       "      <td>train</td>\n",
       "      <td>woman</td>\n",
       "      <td>1.0</td>\n",
       "    </tr>\n",
       "    <tr>\n",
       "      <th>5</th>\n",
       "      <td>train</td>\n",
       "      <td>unlicens day care worker reportedli tell cop w...</td>\n",
       "      <td>1.0</td>\n",
       "    </tr>\n",
       "  </tbody>\n",
       "</table>\n",
       "</div>"
      ],
      "text/plain": [
       "   split                                               text  label_sexist\n",
       "1  train                                         she keeper           1.0\n",
       "2  train  like metallica video poor mutil bastard say pl...           1.0\n",
       "3  train                                              woman           1.0\n",
       "5  train  unlicens day care worker reportedli tell cop w...           1.0"
      ]
     },
     "execution_count": 119,
     "metadata": {},
     "output_type": "execute_result"
    }
   ],
   "source": [
    "train_data.head(4)"
   ]
  },
  {
   "cell_type": "code",
   "execution_count": 120,
   "metadata": {},
   "outputs": [
    {
     "name": "stdout",
     "output_type": "stream",
     "text": [
      "<class 'pandas.core.frame.DataFrame'>\n",
      "Index: 14000 entries, 1 to 19998\n",
      "Data columns (total 3 columns):\n",
      " #   Column        Non-Null Count  Dtype  \n",
      "---  ------        --------------  -----  \n",
      " 0   split         14000 non-null  object \n",
      " 1   text          14000 non-null  object \n",
      " 2   label_sexist  14000 non-null  float32\n",
      "dtypes: float32(1), object(2)\n",
      "memory usage: 382.8+ KB\n"
     ]
    }
   ],
   "source": [
    "train_data.info()"
   ]
  },
  {
   "cell_type": "code",
   "execution_count": 121,
   "metadata": {},
   "outputs": [],
   "source": [
    "X_train = train_data.drop(['label_sexist'] , axis=1)\n",
    "y_train = train_data.label_sexist"
   ]
  },
  {
   "cell_type": "markdown",
   "metadata": {},
   "source": [
    "### Testing data information"
   ]
  },
  {
   "cell_type": "code",
   "execution_count": 122,
   "metadata": {},
   "outputs": [
    {
     "data": {
      "text/html": [
       "<div>\n",
       "<style scoped>\n",
       "    .dataframe tbody tr th:only-of-type {\n",
       "        vertical-align: middle;\n",
       "    }\n",
       "\n",
       "    .dataframe tbody tr th {\n",
       "        vertical-align: top;\n",
       "    }\n",
       "\n",
       "    .dataframe thead th {\n",
       "        text-align: right;\n",
       "    }\n",
       "</style>\n",
       "<table border=\"1\" class=\"dataframe\">\n",
       "  <thead>\n",
       "    <tr style=\"text-align: right;\">\n",
       "      <th></th>\n",
       "      <th>split</th>\n",
       "      <th>text</th>\n",
       "      <th>label_sexist</th>\n",
       "    </tr>\n",
       "  </thead>\n",
       "  <tbody>\n",
       "    <tr>\n",
       "      <th>21</th>\n",
       "      <td>test</td>\n",
       "      <td>fuck nigger jew histori eat white peopl fuck s...</td>\n",
       "      <td>1.0</td>\n",
       "    </tr>\n",
       "    <tr>\n",
       "      <th>27</th>\n",
       "      <td>test</td>\n",
       "      <td>well good someon knock as back line act like w...</td>\n",
       "      <td>0.0</td>\n",
       "    </tr>\n",
       "    <tr>\n",
       "      <th>35</th>\n",
       "      <td>test</td>\n",
       "      <td>usa texa islam muslim islam sharialaw sharia t...</td>\n",
       "      <td>1.0</td>\n",
       "    </tr>\n",
       "    <tr>\n",
       "      <th>38</th>\n",
       "      <td>test</td>\n",
       "      <td>ye normal woman want domin social scientist ca...</td>\n",
       "      <td>0.0</td>\n",
       "    </tr>\n",
       "  </tbody>\n",
       "</table>\n",
       "</div>"
      ],
      "text/plain": [
       "   split                                               text  label_sexist\n",
       "21  test  fuck nigger jew histori eat white peopl fuck s...           1.0\n",
       "27  test  well good someon knock as back line act like w...           0.0\n",
       "35  test  usa texa islam muslim islam sharialaw sharia t...           1.0\n",
       "38  test  ye normal woman want domin social scientist ca...           0.0"
      ]
     },
     "execution_count": 122,
     "metadata": {},
     "output_type": "execute_result"
    }
   ],
   "source": [
    "test_data.head(4)"
   ]
  },
  {
   "cell_type": "code",
   "execution_count": 123,
   "metadata": {},
   "outputs": [
    {
     "name": "stdout",
     "output_type": "stream",
     "text": [
      "<class 'pandas.core.frame.DataFrame'>\n",
      "Index: 4000 entries, 21 to 19999\n",
      "Data columns (total 3 columns):\n",
      " #   Column        Non-Null Count  Dtype  \n",
      "---  ------        --------------  -----  \n",
      " 0   split         4000 non-null   object \n",
      " 1   text          4000 non-null   object \n",
      " 2   label_sexist  4000 non-null   float32\n",
      "dtypes: float32(1), object(2)\n",
      "memory usage: 109.4+ KB\n"
     ]
    }
   ],
   "source": [
    "test_data.info()"
   ]
  },
  {
   "cell_type": "code",
   "execution_count": 124,
   "metadata": {},
   "outputs": [],
   "source": [
    "X_test = test_data.drop(['label_sexist'] , axis=1)\n",
    "y_test = test_data.label_sexist"
   ]
  },
  {
   "cell_type": "markdown",
   "metadata": {},
   "source": [
    "### Validating data information"
   ]
  },
  {
   "cell_type": "code",
   "execution_count": 125,
   "metadata": {},
   "outputs": [
    {
     "data": {
      "text/html": [
       "<div>\n",
       "<style scoped>\n",
       "    .dataframe tbody tr th:only-of-type {\n",
       "        vertical-align: middle;\n",
       "    }\n",
       "\n",
       "    .dataframe tbody tr th {\n",
       "        vertical-align: top;\n",
       "    }\n",
       "\n",
       "    .dataframe thead th {\n",
       "        text-align: right;\n",
       "    }\n",
       "</style>\n",
       "<table border=\"1\" class=\"dataframe\">\n",
       "  <thead>\n",
       "    <tr style=\"text-align: right;\">\n",
       "      <th></th>\n",
       "      <th>split</th>\n",
       "      <th>text</th>\n",
       "      <th>label_sexist</th>\n",
       "    </tr>\n",
       "  </thead>\n",
       "  <tbody>\n",
       "    <tr>\n",
       "      <th>0</th>\n",
       "      <td>dev</td>\n",
       "      <td>nigeria rape woman men rape back nsfw nigeria ...</td>\n",
       "      <td>1.0</td>\n",
       "    </tr>\n",
       "    <tr>\n",
       "      <th>4</th>\n",
       "      <td>dev</td>\n",
       "      <td>bet wish gun</td>\n",
       "      <td>1.0</td>\n",
       "    </tr>\n",
       "    <tr>\n",
       "      <th>9</th>\n",
       "      <td>dev</td>\n",
       "      <td>agre time know well enough say cant love woman...</td>\n",
       "      <td>0.0</td>\n",
       "    </tr>\n",
       "    <tr>\n",
       "      <th>15</th>\n",
       "      <td>dev</td>\n",
       "      <td>democrat minnesota leftist muzzi shithol dumbe...</td>\n",
       "      <td>0.0</td>\n",
       "    </tr>\n",
       "  </tbody>\n",
       "</table>\n",
       "</div>"
      ],
      "text/plain": [
       "   split                                               text  label_sexist\n",
       "0    dev  nigeria rape woman men rape back nsfw nigeria ...           1.0\n",
       "4    dev                                       bet wish gun           1.0\n",
       "9    dev  agre time know well enough say cant love woman...           0.0\n",
       "15   dev  democrat minnesota leftist muzzi shithol dumbe...           0.0"
      ]
     },
     "execution_count": 125,
     "metadata": {},
     "output_type": "execute_result"
    }
   ],
   "source": [
    "val_data.head(4)"
   ]
  },
  {
   "cell_type": "code",
   "execution_count": 126,
   "metadata": {},
   "outputs": [
    {
     "name": "stdout",
     "output_type": "stream",
     "text": [
      "<class 'pandas.core.frame.DataFrame'>\n",
      "Index: 2000 entries, 0 to 19974\n",
      "Data columns (total 3 columns):\n",
      " #   Column        Non-Null Count  Dtype  \n",
      "---  ------        --------------  -----  \n",
      " 0   split         2000 non-null   object \n",
      " 1   text          2000 non-null   object \n",
      " 2   label_sexist  2000 non-null   float32\n",
      "dtypes: float32(1), object(2)\n",
      "memory usage: 54.7+ KB\n"
     ]
    }
   ],
   "source": [
    "val_data.info()"
   ]
  },
  {
   "cell_type": "code",
   "execution_count": 127,
   "metadata": {},
   "outputs": [],
   "source": [
    "X_val = val_data.drop([\"label_sexist\"] ,axis=1)\n",
    "y_val = val_data.label_sexist"
   ]
  },
  {
   "cell_type": "markdown",
   "metadata": {},
   "source": [
    "## Tokenize  data"
   ]
  },
  {
   "cell_type": "code",
   "execution_count": 128,
   "metadata": {},
   "outputs": [],
   "source": [
    "tokenizer = Tokenizer()"
   ]
  },
  {
   "cell_type": "markdown",
   "metadata": {},
   "source": [
    "training data"
   ]
  },
  {
   "cell_type": "code",
   "execution_count": 129,
   "metadata": {},
   "outputs": [],
   "source": [
    "texts_train = X_train['text'].tolist()\n",
    "tokenizer.fit_on_texts(texts_train)\n",
    "X_train_sequences = tokenizer.texts_to_sequences(texts_train)"
   ]
  },
  {
   "cell_type": "markdown",
   "metadata": {},
   "source": [
    "Validation data"
   ]
  },
  {
   "cell_type": "code",
   "execution_count": 130,
   "metadata": {},
   "outputs": [],
   "source": [
    "text_val = X_val['text'].tolist()\n",
    "tokenizer.fit_on_texts(text_val)\n",
    "X_val_sequences = tokenizer.texts_to_sequences(text_val)"
   ]
  },
  {
   "cell_type": "markdown",
   "metadata": {},
   "source": [
    "Testing data"
   ]
  },
  {
   "cell_type": "code",
   "execution_count": 133,
   "metadata": {},
   "outputs": [],
   "source": [
    "text_test = X_test[\"text\"].tolist()\n",
    "tokenizer.fit_on_texts(text_test)\n",
    "X_test_sequences = tokenizer.texts_to_sequences(text_test)"
   ]
  },
  {
   "cell_type": "markdown",
   "metadata": {},
   "source": [
    "Pad sequences to ensure they have the same length"
   ]
  },
  {
   "cell_type": "code",
   "execution_count": 134,
   "metadata": {},
   "outputs": [],
   "source": [
    "max_sequence_length = 100\n",
    "X_train_padded = pad_sequences(X_train_sequences, maxlen=max_sequence_length)\n",
    "X_val_padded = pad_sequences(X_val_sequences, maxlen=max_sequence_length)\n",
    "X_test_padded = pad_sequences(X_test_sequences, maxlen=max_sequence_length)"
   ]
  },
  {
   "cell_type": "markdown",
   "metadata": {},
   "source": [
    "## Fiting model"
   ]
  },
  {
   "cell_type": "markdown",
   "metadata": {},
   "source": [
    "Define the LSTM model architecture"
   ]
  },
  {
   "cell_type": "code",
   "execution_count": 95,
   "metadata": {},
   "outputs": [],
   "source": [
    "model = Sequential()\n",
    "model.add(Embedding(input_dim=len(tokenizer.word_index) + 1 ,input_length=max_sequence_length , output_dim=50))\n",
    "model.add(LSTM(32))\n",
    "model.add(Dense(1, activation='sigmoid'))\n",
    "\n",
    "model.compile(optimizer='rmsprop', loss='binary_crossentropy', metrics=['acc'])\n"
   ]
  },
  {
   "cell_type": "code",
   "execution_count": 96,
   "metadata": {},
   "outputs": [
    {
     "name": "stdout",
     "output_type": "stream",
     "text": [
      "Epoch 1/10\n",
      "219/219 [==============================] - 12s 44ms/step - loss: 0.5156 - acc: 0.7659 - val_loss: 0.5112 - val_acc: 0.7770\n",
      "Epoch 2/10\n",
      "219/219 [==============================] - 10s 45ms/step - loss: 0.3830 - acc: 0.8362 - val_loss: 0.5764 - val_acc: 0.7500\n",
      "Epoch 3/10\n",
      "219/219 [==============================] - 10s 46ms/step - loss: 0.3222 - acc: 0.8686 - val_loss: 0.6405 - val_acc: 0.7395\n",
      "Epoch 4/10\n",
      "219/219 [==============================] - 10s 44ms/step - loss: 0.2895 - acc: 0.8875 - val_loss: 0.7648 - val_acc: 0.7410\n",
      "Epoch 5/10\n",
      "219/219 [==============================] - 9s 42ms/step - loss: 0.2687 - acc: 0.8979 - val_loss: 0.7793 - val_acc: 0.7285\n",
      "Epoch 6/10\n",
      "219/219 [==============================] - 9s 43ms/step - loss: 0.2505 - acc: 0.9052 - val_loss: 0.7958 - val_acc: 0.7065\n",
      "Epoch 7/10\n",
      "219/219 [==============================] - 10s 44ms/step - loss: 0.2307 - acc: 0.9156 - val_loss: 0.8551 - val_acc: 0.7030\n",
      "Epoch 8/10\n",
      "219/219 [==============================] - 10s 46ms/step - loss: 0.2121 - acc: 0.9238 - val_loss: 0.9048 - val_acc: 0.7210\n",
      "Epoch 9/10\n",
      "219/219 [==============================] - 11s 50ms/step - loss: 0.1948 - acc: 0.9320 - val_loss: 0.9635 - val_acc: 0.6650\n",
      "Epoch 10/10\n",
      "219/219 [==============================] - 11s 50ms/step - loss: 0.1781 - acc: 0.9379 - val_loss: 1.0711 - val_acc: 0.6580\n"
     ]
    }
   ],
   "source": [
    "model.fit(X_train_padded, y_train, epochs=10, batch_size=64 , validation_data=(X_val_padded, y_val))"
   ]
  },
  {
   "cell_type": "markdown",
   "metadata": {},
   "source": [
    "## Testing "
   ]
  },
  {
   "cell_type": "code",
   "execution_count": 135,
   "metadata": {},
   "outputs": [
    {
     "name": "stdout",
     "output_type": "stream",
     "text": [
      "125/125 [==============================] - 2s 12ms/step - loss: 0.9494 - acc: 0.6930\n"
     ]
    }
   ],
   "source": [
    "test_loss, test_accuracy = model.evaluate(X_test_padded, y_test)"
   ]
  }
 ],
 "metadata": {
  "kernelspec": {
   "display_name": "Python 3",
   "language": "python",
   "name": "python3"
  },
  "language_info": {
   "codemirror_mode": {
    "name": "ipython",
    "version": 3
   },
   "file_extension": ".py",
   "mimetype": "text/x-python",
   "name": "python",
   "nbconvert_exporter": "python",
   "pygments_lexer": "ipython3",
   "version": "3.10.11"
  }
 },
 "nbformat": 4,
 "nbformat_minor": 2
}
