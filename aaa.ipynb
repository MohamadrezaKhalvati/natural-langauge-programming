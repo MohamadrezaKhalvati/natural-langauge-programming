{
 "cells": [
  {
   "cell_type": "markdown",
   "metadata": {},
   "source": [
    "## Import Libraries"
   ]
  },
  {
   "cell_type": "code",
   "execution_count": 79,
   "metadata": {},
   "outputs": [],
   "source": [
    "import pandas as pd\n",
    "import numpy as np\n",
    "import re\n",
    "import nltk\n",
    "from langdetect import detect_langs\n",
    "import langid"
   ]
  },
  {
   "cell_type": "markdown",
   "metadata": {},
   "source": [
    "## Data Preprocessing"
   ]
  },
  {
   "cell_type": "markdown",
   "metadata": {},
   "source": [
    "load the data"
   ]
  },
  {
   "cell_type": "code",
   "execution_count": 80,
   "metadata": {},
   "outputs": [],
   "source": [
    "data = pd.read_csv(\"./Project/data.csv\")"
   ]
  },
  {
   "cell_type": "code",
   "execution_count": 81,
   "metadata": {},
   "outputs": [
    {
     "name": "stdout",
     "output_type": "stream",
     "text": [
      "<class 'pandas.core.frame.DataFrame'>\n",
      "RangeIndex: 1131 entries, 0 to 1130\n",
      "Data columns (total 7 columns):\n",
      " #   Column              Non-Null Count  Dtype \n",
      "---  ------              --------------  ----- \n",
      " 0   postUrl             1131 non-null   object\n",
      " 1   id                  1131 non-null   int64 \n",
      " 2   text                1130 non-null   object\n",
      " 3   ownerUsername       1131 non-null   object\n",
      " 4   ownerProfilePicUrl  1131 non-null   object\n",
      " 5   timestamp           1131 non-null   object\n",
      " 6   likesCount          1131 non-null   int64 \n",
      "dtypes: int64(2), object(5)\n",
      "memory usage: 62.0+ KB\n"
     ]
    }
   ],
   "source": [
    "data.info()"
   ]
  },
  {
   "cell_type": "code",
   "execution_count": 82,
   "metadata": {},
   "outputs": [
    {
     "data": {
      "text/html": [
       "<div>\n",
       "<style scoped>\n",
       "    .dataframe tbody tr th:only-of-type {\n",
       "        vertical-align: middle;\n",
       "    }\n",
       "\n",
       "    .dataframe tbody tr th {\n",
       "        vertical-align: top;\n",
       "    }\n",
       "\n",
       "    .dataframe thead th {\n",
       "        text-align: right;\n",
       "    }\n",
       "</style>\n",
       "<table border=\"1\" class=\"dataframe\">\n",
       "  <thead>\n",
       "    <tr style=\"text-align: right;\">\n",
       "      <th></th>\n",
       "      <th>postUrl</th>\n",
       "      <th>id</th>\n",
       "      <th>text</th>\n",
       "      <th>ownerUsername</th>\n",
       "      <th>ownerProfilePicUrl</th>\n",
       "      <th>timestamp</th>\n",
       "      <th>likesCount</th>\n",
       "    </tr>\n",
       "  </thead>\n",
       "  <tbody>\n",
       "    <tr>\n",
       "      <th>0</th>\n",
       "      <td>https://www.instagram.com/p/Cvxj4Rcga_i/</td>\n",
       "      <td>18000717011493106</td>\n",
       "      <td>Después los “profes” te dicen que no hagas la ...</td>\n",
       "      <td>nicopetacchi</td>\n",
       "      <td>https://instagram.fbts7-1.fna.fbcdn.net/v/t51....</td>\n",
       "      <td>2023-11-03T16:44:14.000Z</td>\n",
       "      <td>0</td>\n",
       "    </tr>\n",
       "    <tr>\n",
       "      <th>1</th>\n",
       "      <td>https://www.instagram.com/p/Cvxj4Rcga_i/</td>\n",
       "      <td>18242597854171531</td>\n",
       "      <td>@bruno_viotti e natural</td>\n",
       "      <td>allanzinho.05</td>\n",
       "      <td>https://instagram.fbts7-1.fna.fbcdn.net/v/t51....</td>\n",
       "      <td>2023-11-03T20:29:05.000Z</td>\n",
       "      <td>0</td>\n",
       "    </tr>\n",
       "    <tr>\n",
       "      <th>2</th>\n",
       "      <td>https://www.instagram.com/p/Cvxj4Rcga_i/</td>\n",
       "      <td>18028561504679119</td>\n",
       "      <td>😍😍😍😍🔥🔥🔥🔥🔥</td>\n",
       "      <td>amandamoon764</td>\n",
       "      <td>https://instagram.fbts7-1.fna.fbcdn.net/v/t51....</td>\n",
       "      <td>2023-11-03T21:39:47.000Z</td>\n",
       "      <td>1</td>\n",
       "    </tr>\n",
       "    <tr>\n",
       "      <th>3</th>\n",
       "      <td>https://www.instagram.com/p/Cvxj4Rcga_i/</td>\n",
       "      <td>17989361699457631</td>\n",
       "      <td>NaN</td>\n",
       "      <td>uzakbay02</td>\n",
       "      <td>https://instagram.fbts7-1.fna.fbcdn.net/v/t51....</td>\n",
       "      <td>2023-11-04T04:46:50.000Z</td>\n",
       "      <td>0</td>\n",
       "    </tr>\n",
       "    <tr>\n",
       "      <th>4</th>\n",
       "      <td>https://www.instagram.com/p/Cvxj4Rcga_i/</td>\n",
       "      <td>17909218049778385</td>\n",
       "      <td>@yonatanbargay @adam_mayer_21 סמית זה עדיין חרא?</td>\n",
       "      <td>yuval_viener</td>\n",
       "      <td>https://instagram.fbts7-1.fna.fbcdn.net/v/t51....</td>\n",
       "      <td>2023-11-04T13:57:58.000Z</td>\n",
       "      <td>0</td>\n",
       "    </tr>\n",
       "  </tbody>\n",
       "</table>\n",
       "</div>"
      ],
      "text/plain": [
       "                                    postUrl                 id  \\\n",
       "0  https://www.instagram.com/p/Cvxj4Rcga_i/  18000717011493106   \n",
       "1  https://www.instagram.com/p/Cvxj4Rcga_i/  18242597854171531   \n",
       "2  https://www.instagram.com/p/Cvxj4Rcga_i/  18028561504679119   \n",
       "3  https://www.instagram.com/p/Cvxj4Rcga_i/  17989361699457631   \n",
       "4  https://www.instagram.com/p/Cvxj4Rcga_i/  17909218049778385   \n",
       "\n",
       "                                                text  ownerUsername  \\\n",
       "0  Después los “profes” te dicen que no hagas la ...   nicopetacchi   \n",
       "1                            @bruno_viotti e natural  allanzinho.05   \n",
       "2                                          😍😍😍😍🔥🔥🔥🔥🔥  amandamoon764   \n",
       "3                                                NaN      uzakbay02   \n",
       "4   @yonatanbargay @adam_mayer_21 סמית זה עדיין חרא?   yuval_viener   \n",
       "\n",
       "                                  ownerProfilePicUrl  \\\n",
       "0  https://instagram.fbts7-1.fna.fbcdn.net/v/t51....   \n",
       "1  https://instagram.fbts7-1.fna.fbcdn.net/v/t51....   \n",
       "2  https://instagram.fbts7-1.fna.fbcdn.net/v/t51....   \n",
       "3  https://instagram.fbts7-1.fna.fbcdn.net/v/t51....   \n",
       "4  https://instagram.fbts7-1.fna.fbcdn.net/v/t51....   \n",
       "\n",
       "                  timestamp  likesCount  \n",
       "0  2023-11-03T16:44:14.000Z           0  \n",
       "1  2023-11-03T20:29:05.000Z           0  \n",
       "2  2023-11-03T21:39:47.000Z           1  \n",
       "3  2023-11-04T04:46:50.000Z           0  \n",
       "4  2023-11-04T13:57:58.000Z           0  "
      ]
     },
     "execution_count": 82,
     "metadata": {},
     "output_type": "execute_result"
    }
   ],
   "source": [
    "data.head()"
   ]
  },
  {
   "cell_type": "markdown",
   "metadata": {},
   "source": [
    "Remove duplicate texts"
   ]
  },
  {
   "cell_type": "code",
   "execution_count": 83,
   "metadata": {},
   "outputs": [],
   "source": [
    "data = data.drop_duplicates(subset=[\"text\"])"
   ]
  },
  {
   "cell_type": "markdown",
   "metadata": {},
   "source": [
    "Remove texts that are empty or contain only whitespace"
   ]
  },
  {
   "cell_type": "code",
   "execution_count": 84,
   "metadata": {},
   "outputs": [],
   "source": [
    "data = data[data[\"text\"].str.strip() != \"\"]"
   ]
  },
  {
   "cell_type": "markdown",
   "metadata": {},
   "source": [
    "Convert all comments to lowercase"
   ]
  },
  {
   "cell_type": "code",
   "execution_count": 85,
   "metadata": {},
   "outputs": [],
   "source": [
    "data[\"text\"] = data[\"text\"].str.lower()"
   ]
  },
  {
   "cell_type": "markdown",
   "metadata": {},
   "source": [
    "Remove punctuation and special characters from the comments"
   ]
  },
  {
   "cell_type": "code",
   "execution_count": 86,
   "metadata": {},
   "outputs": [],
   "source": [
    "data[\"text\"] = data[\"text\"].str.replace(\"[^\\w\\s]\", \"\")"
   ]
  },
  {
   "cell_type": "markdown",
   "metadata": {},
   "source": [
    "Remove stop words from the texts"
   ]
  },
  {
   "cell_type": "code",
   "execution_count": 87,
   "metadata": {},
   "outputs": [],
   "source": [
    "stop_words = set(nltk.corpus.stopwords.words(\"english\"))"
   ]
  },
  {
   "cell_type": "code",
   "execution_count": 88,
   "metadata": {},
   "outputs": [],
   "source": [
    "data[\"text\"] = data[\"text\"].apply(\n",
    "    lambda x: \" \".join([word for word in str(x).split() if word not in stop_words])\n",
    ")"
   ]
  },
  {
   "cell_type": "markdown",
   "metadata": {},
   "source": [
    "Remove texts that are less than a certain length"
   ]
  },
  {
   "cell_type": "code",
   "execution_count": 89,
   "metadata": {},
   "outputs": [],
   "source": [
    "min_length = 3\n",
    "data = data[data[\"text\"].str.len() >= min_length]"
   ]
  },
  {
   "cell_type": "markdown",
   "metadata": {},
   "source": [
    "Remove texts that contain certain keywords"
   ]
  },
  {
   "cell_type": "code",
   "execution_count": 90,
   "metadata": {},
   "outputs": [],
   "source": [
    "keywords = [\"spam\", \"advertisement\", \"offensive\"]\n",
    "data = data[~data[\"text\"].str.contains(\"|\".join(keywords))]"
   ]
  },
  {
   "cell_type": "markdown",
   "metadata": {},
   "source": [
    "Remove texts that are written in a language other than English"
   ]
  },
  {
   "cell_type": "code",
   "execution_count": 91,
   "metadata": {},
   "outputs": [],
   "source": [
    "def is_english(text):\n",
    "    lang, _ = langid.classify(text)\n",
    "    return lang == \"en\""
   ]
  },
  {
   "cell_type": "code",
   "execution_count": 92,
   "metadata": {},
   "outputs": [],
   "source": [
    "data[\"is_english\"] = data[\"text\"].apply(is_english)\n",
    "data = data[data[\"is_english\"]]"
   ]
  },
  {
   "cell_type": "code",
   "execution_count": 93,
   "metadata": {},
   "outputs": [],
   "source": [
    "data = data.drop(columns=[\"is_english\"])"
   ]
  },
  {
   "cell_type": "markdown",
   "metadata": {},
   "source": [
    "Remove mentions from the texts"
   ]
  },
  {
   "cell_type": "code",
   "execution_count": 94,
   "metadata": {},
   "outputs": [],
   "source": [
    "mentions_pattern = r\"(@\\w+)\"\n",
    "data[\"text\"] = data[\"text\"].str.replace(mentions_pattern, \"\")"
   ]
  },
  {
   "cell_type": "code",
   "execution_count": 96,
   "metadata": {},
   "outputs": [
    {
     "data": {
      "text/html": [
       "<div>\n",
       "<style scoped>\n",
       "    .dataframe tbody tr th:only-of-type {\n",
       "        vertical-align: middle;\n",
       "    }\n",
       "\n",
       "    .dataframe tbody tr th {\n",
       "        vertical-align: top;\n",
       "    }\n",
       "\n",
       "    .dataframe thead th {\n",
       "        text-align: right;\n",
       "    }\n",
       "</style>\n",
       "<table border=\"1\" class=\"dataframe\">\n",
       "  <thead>\n",
       "    <tr style=\"text-align: right;\">\n",
       "      <th></th>\n",
       "      <th>postUrl</th>\n",
       "      <th>id</th>\n",
       "      <th>text</th>\n",
       "      <th>ownerUsername</th>\n",
       "      <th>ownerProfilePicUrl</th>\n",
       "      <th>timestamp</th>\n",
       "      <th>likesCount</th>\n",
       "    </tr>\n",
       "  </thead>\n",
       "  <tbody>\n",
       "    <tr>\n",
       "      <th>3</th>\n",
       "      <td>https://www.instagram.com/p/Cvxj4Rcga_i/</td>\n",
       "      <td>17989361699457631</td>\n",
       "      <td>nan</td>\n",
       "      <td>uzakbay02</td>\n",
       "      <td>https://instagram.fbts7-1.fna.fbcdn.net/v/t51....</td>\n",
       "      <td>2023-11-04T04:46:50.000Z</td>\n",
       "      <td>0</td>\n",
       "    </tr>\n",
       "    <tr>\n",
       "      <th>8</th>\n",
       "      <td>https://www.instagram.com/p/Cvxj4Rcga_i/</td>\n",
       "      <td>17996899703086912</td>\n",
       "      <td>gym good music whatttttt</td>\n",
       "      <td>esmesiren</td>\n",
       "      <td>https://instagram.fbts7-1.fna.fbcdn.net/v/t51....</td>\n",
       "      <td>2023-11-04T20:29:03.000Z</td>\n",
       "      <td>0</td>\n",
       "    </tr>\n",
       "    <tr>\n",
       "      <th>13</th>\n",
       "      <td>https://www.instagram.com/p/Cvxj4Rcga_i/</td>\n",
       "      <td>18058055113471101</td>\n",
       "      <td>want put guy badass movie</td>\n",
       "      <td>fleury_muhire</td>\n",
       "      <td>https://instagram.fbts7-1.fna.fbcdn.net/v/t51....</td>\n",
       "      <td>2023-11-06T16:13:11.000Z</td>\n",
       "      <td>0</td>\n",
       "    </tr>\n",
       "    <tr>\n",
       "      <th>32</th>\n",
       "      <td>https://www.instagram.com/p/Cvxj4Rcga_i/</td>\n",
       "      <td>17874358640947700</td>\n",
       "      <td>cold winds blows back 🙌</td>\n",
       "      <td>emile_girardin</td>\n",
       "      <td>https://instagram.fbts7-1.fna.fbcdn.net/v/t51....</td>\n",
       "      <td>2023-11-08T04:27:32.000Z</td>\n",
       "      <td>0</td>\n",
       "    </tr>\n",
       "    <tr>\n",
       "      <th>33</th>\n",
       "      <td>https://www.instagram.com/p/Cvxj4Rcga_i/</td>\n",
       "      <td>18021367558894735</td>\n",
       "      <td>@kenniemalm</td>\n",
       "      <td>ryanaryan</td>\n",
       "      <td>https://instagram.fbts7-1.fna.fbcdn.net/v/t51....</td>\n",
       "      <td>2023-11-15T22:11:38.000Z</td>\n",
       "      <td>0</td>\n",
       "    </tr>\n",
       "  </tbody>\n",
       "</table>\n",
       "</div>"
      ],
      "text/plain": [
       "                                     postUrl                 id  \\\n",
       "3   https://www.instagram.com/p/Cvxj4Rcga_i/  17989361699457631   \n",
       "8   https://www.instagram.com/p/Cvxj4Rcga_i/  17996899703086912   \n",
       "13  https://www.instagram.com/p/Cvxj4Rcga_i/  18058055113471101   \n",
       "32  https://www.instagram.com/p/Cvxj4Rcga_i/  17874358640947700   \n",
       "33  https://www.instagram.com/p/Cvxj4Rcga_i/  18021367558894735   \n",
       "\n",
       "                         text   ownerUsername  \\\n",
       "3                         nan       uzakbay02   \n",
       "8    gym good music whatttttt       esmesiren   \n",
       "13  want put guy badass movie   fleury_muhire   \n",
       "32    cold winds blows back 🙌  emile_girardin   \n",
       "33                @kenniemalm       ryanaryan   \n",
       "\n",
       "                                   ownerProfilePicUrl  \\\n",
       "3   https://instagram.fbts7-1.fna.fbcdn.net/v/t51....   \n",
       "8   https://instagram.fbts7-1.fna.fbcdn.net/v/t51....   \n",
       "13  https://instagram.fbts7-1.fna.fbcdn.net/v/t51....   \n",
       "32  https://instagram.fbts7-1.fna.fbcdn.net/v/t51....   \n",
       "33  https://instagram.fbts7-1.fna.fbcdn.net/v/t51....   \n",
       "\n",
       "                   timestamp  likesCount  \n",
       "3   2023-11-04T04:46:50.000Z           0  \n",
       "8   2023-11-04T20:29:03.000Z           0  \n",
       "13  2023-11-06T16:13:11.000Z           0  \n",
       "32  2023-11-08T04:27:32.000Z           0  \n",
       "33  2023-11-15T22:11:38.000Z           0  "
      ]
     },
     "execution_count": 96,
     "metadata": {},
     "output_type": "execute_result"
    }
   ],
   "source": [
    "data.head()"
   ]
  }
 ],
 "metadata": {
  "kernelspec": {
   "display_name": "Python 3",
   "language": "python",
   "name": "python3"
  },
  "language_info": {
   "codemirror_mode": {
    "name": "ipython",
    "version": 3
   },
   "file_extension": ".py",
   "mimetype": "text/x-python",
   "name": "python",
   "nbconvert_exporter": "python",
   "pygments_lexer": "ipython3",
   "version": "3.10.11"
  }
 },
 "nbformat": 4,
 "nbformat_minor": 2
}
