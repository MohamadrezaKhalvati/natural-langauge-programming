{
 "cells": [
  {
   "cell_type": "markdown",
   "metadata": {},
   "source": [
    "## Question 1: \n",
    "1.read the content from the file and tokenize the content base on both sentences and words with 3 different library in python."
   ]
  },
  {
   "cell_type": "markdown",
   "metadata": {},
   "source": [
    "read content from file"
   ]
  },
  {
   "cell_type": "code",
   "execution_count": null,
   "metadata": {},
   "outputs": [],
   "source": [
    "with open('./../Content/text.txt', 'r') as file:\n",
    "    file_contents = file.read()"
   ]
  },
  {
   "cell_type": "markdown",
   "metadata": {},
   "source": [
    "### tokenize text with spacy"
   ]
  },
  {
   "cell_type": "code",
   "execution_count": null,
   "metadata": {},
   "outputs": [],
   "source": [
    "import spacy\n",
    "nlp = spacy.load(\"en_core_web_sm\")\n"
   ]
  },
  {
   "cell_type": "markdown",
   "metadata": {},
   "source": [
    "tokenize code base on sentences"
   ]
  },
  {
   "cell_type": "code",
   "execution_count": null,
   "metadata": {},
   "outputs": [],
   "source": [
    "doc = nlp(file_contents)\n",
    "sentences = list(doc.sents)\n",
    "\n",
    "tokenized_sentences = []\n",
    "for sentence in sentences:\n",
    "    tokens = [token.text for token in sentence]\n",
    "    tokenized_sentences.append(tokens)\n",
    "\n",
    "print(\"sentences:\")\n",
    "for i, sentence_tokens in enumerate(tokenized_sentences, 1):\n",
    "    print(f\"جمله {i}: {sentence_tokens}\")\n",
    "\n"
   ]
  },
  {
   "cell_type": "markdown",
   "metadata": {},
   "source": [
    "tokenize content base on word"
   ]
  },
  {
   "cell_type": "code",
   "execution_count": null,
   "metadata": {},
   "outputs": [],
   "source": [
    "all_tokens = [token.text for token in doc]\n",
    "\n",
    "print(\"words: \")\n",
    "print(all_tokens)"
   ]
  },
  {
   "cell_type": "markdown",
   "metadata": {},
   "source": [
    "### tokenize code with NLTK"
   ]
  },
  {
   "cell_type": "code",
   "execution_count": null,
   "metadata": {},
   "outputs": [],
   "source": [
    "import nltk"
   ]
  },
  {
   "cell_type": "markdown",
   "metadata": {},
   "source": [
    "tokenize content base on sentences"
   ]
  },
  {
   "cell_type": "code",
   "execution_count": null,
   "metadata": {},
   "outputs": [],
   "source": [
    "sentences = nltk.sent_tokenize(file_contents)\n",
    "\n",
    "print(\"Sentences:\")\n",
    "for i, sentence in enumerate(sentences, 1):\n",
    "    print(f\"Sentence {i}: {sentence}\")\n"
   ]
  },
  {
   "cell_type": "markdown",
   "metadata": {},
   "source": [
    "tokenize content base on words"
   ]
  },
  {
   "cell_type": "code",
   "execution_count": null,
   "metadata": {},
   "outputs": [],
   "source": [
    "words = nltk.word_tokenize(file_contents)\n",
    "\n",
    "print(\"\\nWords:\")\n",
    "print(words)"
   ]
  },
  {
   "cell_type": "markdown",
   "metadata": {},
   "source": [
    "### tokenize text without any library"
   ]
  },
  {
   "cell_type": "markdown",
   "metadata": {},
   "source": [
    "tokenize text base on sentences"
   ]
  },
  {
   "cell_type": "code",
   "execution_count": null,
   "metadata": {},
   "outputs": [],
   "source": [
    "sentences = file_contents.split('.')\n",
    "\n",
    "tokenized_text = []\n",
    "for sentence in sentences:\n",
    "    words = sentence.split()\n",
    "    tokenized_text.append(words)\n",
    "\n",
    "tokenized_text = [[word for word in sentence if word] for sentence in tokenized_text]\n",
    "\n",
    "\n",
    "for sentence in tokenized_text:\n",
    "    print(sentence)\n"
   ]
  },
  {
   "cell_type": "markdown",
   "metadata": {},
   "source": [
    "tokenize text base on words"
   ]
  },
  {
   "cell_type": "code",
   "execution_count": null,
   "metadata": {},
   "outputs": [],
   "source": [
    "punctuation = [' ', '.', ',', '!', '?', ':', ';']\n",
    "\n",
    "word = ''\n",
    "word_list = []\n",
    "\n",
    "for char in file_contents:\n",
    "    if char not in punctuation:\n",
    "        word += char\n",
    "    else:\n",
    "        if word:\n",
    "            word_list.append(word)\n",
    "            word = ''\n",
    "\n",
    "if word:\n",
    "    word_list.append(word)\n",
    "\n",
    "print(word_list)"
   ]
  }
 ],
 "metadata": {
  "kernelspec": {
   "display_name": "Python 3",
   "language": "python",
   "name": "python3"
  },
  "language_info": {
   "codemirror_mode": {
    "name": "ipython",
    "version": 3
   },
   "file_extension": ".py",
   "mimetype": "text/x-python",
   "name": "python",
   "nbconvert_exporter": "python",
   "pygments_lexer": "ipython3",
   "version": "3.10.11"
  }
 },
 "nbformat": 4,
 "nbformat_minor": 2
}
