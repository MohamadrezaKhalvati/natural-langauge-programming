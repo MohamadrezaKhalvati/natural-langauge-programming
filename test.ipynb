{
 "cells": [
  {
   "cell_type": "code",
   "execution_count": null,
   "metadata": {},
   "outputs": [],
   "source": [
    "# Assuming you have a pandas DataFrame named 'df'\n",
    "import pandas as pd\n",
    "\n",
    "# Create a sample DataFrame\n",
    "data = {\n",
    "    \"name\": [\"John\", \"Alice\", \"Bob\"],\n",
    "    \"age\": [25, 30, 22],\n",
    "    \"city\": [\"New York\", \"San Francisco\", \"Los Angeles\"],\n",
    "    \"gender\": [\"Male\", \"Female\", \"Male\"],\n",
    "}\n",
    "\n",
    "df = pd.DataFrame(data)\n",
    "\n",
    "# Display the original DataFrame\n",
    "print(\"Original DataFrame:\")\n",
    "print(df)\n",
    "\n",
    "# Specify the columns you want to drop\n",
    "columns_to_drop = [\"city\", \"gender\"]\n",
    "\n",
    "# Drop the specified columns\n",
    "df_dropped = df.drop(columns=columns_to_drop)\n",
    "\n",
    "# Display the result\n",
    "print(\"\\nDataFrame after dropping columns:\")\n",
    "print(df_dropped)"
   ]
  }
 ],
 "metadata": {
  "kernelspec": {
   "display_name": "Python 3",
   "language": "python",
   "name": "python3"
  },
  "language_info": {
   "codemirror_mode": {
    "name": "ipython",
    "version": 3
   },
   "file_extension": ".py",
   "mimetype": "text/x-python",
   "name": "python",
   "nbconvert_exporter": "python",
   "pygments_lexer": "ipython3",
   "version": "3.10.11"
  }
 },
 "nbformat": 4,
 "nbformat_minor": 2
}
